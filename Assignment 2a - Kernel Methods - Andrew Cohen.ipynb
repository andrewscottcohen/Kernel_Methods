{
 "cells": [
  {
   "cell_type": "markdown",
   "id": "upset-techno",
   "metadata": {},
   "source": [
    "# Andrew Cohen 3/17/21\n",
    "# Assignment: Fitting with a reduced set of features"
   ]
  },
  {
   "cell_type": "code",
   "execution_count": 1,
   "id": "julian-settlement",
   "metadata": {},
   "outputs": [],
   "source": [
    "%matplotlib inline\n",
    "from matplotlib import pyplot as plt\n",
    "from sklearn.kernel_ridge import KernelRidge\n",
    "from sklearn.pipeline import Pipeline\n",
    "from sklearn.preprocessing import StandardScaler\n",
    "from sklearn.model_selection import train_test_split, GridSearchCV\n",
    "from sklearn.metrics import mean_absolute_error\n",
    "from dscribe.descriptors import CoulombMatrix\n",
    "from ase.io.xyz import read_xyz\n",
    "from io import StringIO\n",
    "import pandas as pd\n",
    "import numpy as np\n",
    "from tqdm import tqdm\n",
    "from time import perf_counter"
   ]
  },
  {
   "cell_type": "markdown",
   "id": "progressive-boring",
   "metadata": {},
   "source": [
    "## Problem 1: Fitting a Coulomb Matrix\n",
    "\n",
    "Load in our QM9 dataset"
   ]
  },
  {
   "cell_type": "code",
   "execution_count": 2,
   "id": "advised-hobby",
   "metadata": {},
   "outputs": [
    {
     "name": "stdout",
     "output_type": "stream",
     "text": [
      "Loaded 25000 molecules\n"
     ]
    }
   ],
   "source": [
    "#Load molecules from QM9 Database\n",
    "data = pd.read_json(r'C:\\Users\\ascoh\\Desktop\\UChicago\\Academics\\2020-21\\Q2 2021\\AI for MatSci\\Datasets\\qm9.json.gz', lines=True)\n",
    "print(f'Loaded {len(data)} molecules')"
   ]
  },
  {
   "cell_type": "code",
   "execution_count": 3,
   "id": "typical-prompt",
   "metadata": {},
   "outputs": [],
   "source": [
    "#Convert the data into ASE \"Atoms\" objects.\n",
    "#We need the 3D coordinates of each molecule, which are stored in the XYZ format.\n",
    "\n",
    "data['xyz'].iloc[0]\n",
    "\n",
    "data['atoms'] = data['xyz'].map(lambda x: next(read_xyz(StringIO(x))))  # Lambda makes a temporary function\n",
    "#The read_xyz function takes a file as input and returns a generator of Atoms object.\n",
    "#We turn our string-format into a file-like object using StringIO and call next to remove the data from the generator."
   ]
  },
  {
   "cell_type": "markdown",
   "id": "greater-digest",
   "metadata": {},
   "source": [
    "and compute the [Coulomb matrix](https://singroup.github.io/dscribe/latest/tutorials/coulomb_matrix.html) for each entry."
   ]
  },
  {
   "cell_type": "code",
   "execution_count": 4,
   "id": "stable-stylus",
   "metadata": {},
   "outputs": [
    {
     "name": "stdout",
     "output_type": "stream",
     "text": [
      "Wall time: 51 s\n"
     ]
    }
   ],
   "source": [
    "%%time\n",
    "cm = CoulombMatrix(40, permutation='eigenspectrum')\n",
    "cms = cm.create(data['atoms'], n_jobs=2)  # Runs in parallel with 2 workers  # 40 defines the size of the array\n",
    "\n",
    "data['cm'] = cms.tolist()  #.tolist()  # Makes it possible to set array values in a Pandas dataframe"
   ]
  },
  {
   "cell_type": "markdown",
   "id": "korean-formula",
   "metadata": {},
   "source": [
    "Set maximum number of atoms to be 40. (QM9 dataset encompasses molecules with up to nine “heavy” atoms from the range C, O, N and F. So the molecule having most atoms would simply be Nonane, C<sub>9</sub>H<sub>20</sub>.)"
   ]
  },
  {
   "cell_type": "code",
   "execution_count": 5,
   "id": "cosmetic-irish",
   "metadata": {},
   "outputs": [],
   "source": [
    "#Reduces data to only atoms with a size of 40 or less\n",
    "data_40 = data.query(f'n_atom<={40}')"
   ]
  },
  {
   "cell_type": "markdown",
   "id": "separated-purple",
   "metadata": {},
   "source": [
    "Make a test set of 1000 entries.\n",
    "\n",
    "Fit a model with 100 parameters to predict the HOMO energy (`'homo'`) using [KernelRidge](https://scikit-learn.org/stable/modules/generated/sklearn.kernel_ridge.KernelRidge.html) regression with an RBF kernel. Make sure to fit the $\\alpha$ and $\\gamma$ parameters using [GridSearchCV](https://scikit-learn.org/stable/modules/generated/sklearn.model_selection.GridSearchCV.html)."
   ]
  },
  {
   "cell_type": "code",
   "execution_count": 6,
   "id": "atomic-extent",
   "metadata": {},
   "outputs": [],
   "source": [
    "#Initiliaze our RBF Kernel\n",
    "model_rbf = Pipeline([\n",
    "    ('scale', StandardScaler()),\n",
    "    ('krr', KernelRidge(kernel='rbf'))\n",
    "])"
   ]
  },
  {
   "cell_type": "code",
   "execution_count": 7,
   "id": "mounted-albania",
   "metadata": {},
   "outputs": [],
   "source": [
    "train_data, test_data = train_test_split(data_40, train_size=100, test_size=1000)"
   ]
  },
  {
   "cell_type": "code",
   "execution_count": 8,
   "id": "turned-simon",
   "metadata": {},
   "outputs": [
    {
     "data": {
      "text/plain": [
       "Pipeline(steps=[('scale', StandardScaler()),\n",
       "                ('krr', KernelRidge(kernel='rbf'))])"
      ]
     },
     "execution_count": 8,
     "metadata": {},
     "output_type": "execute_result"
    }
   ],
   "source": [
    "# np.vstack converts list to a big matrix\n",
    "model_rbf.fit(np.vstack(train_data['cm']), train_data['homo'])"
   ]
  },
  {
   "cell_type": "code",
   "execution_count": 9,
   "id": "cordless-challenge",
   "metadata": {},
   "outputs": [],
   "source": [
    "gs = GridSearchCV(\n",
    "    model_rbf,  # The model I would like to tune\n",
    "    {'krr__gamma': np.logspace(-6, 0, 16), 'krr__alpha': np.logspace(-6, 0, 16)},  # The parameters to be adjusted\n",
    "    cv=10,  # How I perform the cross-validation (here: 10-fold cross-validation),\n",
    "    scoring='neg_mean_squared_error'  # Negative mean squared error, so that better models have greater values\n",
    ")"
   ]
  },
  {
   "cell_type": "code",
   "execution_count": 10,
   "id": "pointed-present",
   "metadata": {},
   "outputs": [
    {
     "name": "stdout",
     "output_type": "stream",
     "text": [
      "Wall time: 24 s\n"
     ]
    },
    {
     "data": {
      "text/plain": [
       "GridSearchCV(cv=10,\n",
       "             estimator=Pipeline(steps=[('scale', StandardScaler()),\n",
       "                                       ('krr', KernelRidge(kernel='rbf'))]),\n",
       "             param_grid={'krr__alpha': array([1.00000000e-06, 2.51188643e-06, 6.30957344e-06, 1.58489319e-05,\n",
       "       3.98107171e-05, 1.00000000e-04, 2.51188643e-04, 6.30957344e-04,\n",
       "       1.58489319e-03, 3.98107171e-03, 1.00000000e-02, 2.51188643e-02,\n",
       "       6.30957344e-02, 1.58489319e-01, 3.98107171e-01, 1.00000000e+00]),\n",
       "                         'krr__gamma': array([1.00000000e-06, 2.51188643e-06, 6.30957344e-06, 1.58489319e-05,\n",
       "       3.98107171e-05, 1.00000000e-04, 2.51188643e-04, 6.30957344e-04,\n",
       "       1.58489319e-03, 3.98107171e-03, 1.00000000e-02, 2.51188643e-02,\n",
       "       6.30957344e-02, 1.58489319e-01, 3.98107171e-01, 1.00000000e+00])},\n",
       "             scoring='neg_mean_squared_error')"
      ]
     },
     "execution_count": 10,
     "metadata": {},
     "output_type": "execute_result"
    }
   ],
   "source": [
    "%%time\n",
    "gs.fit(np.vstack(train_data['cm']), train_data['homo']);"
   ]
  },
  {
   "cell_type": "code",
   "execution_count": 11,
   "id": "intended-sacramento",
   "metadata": {},
   "outputs": [],
   "source": [
    "y_pred = gs.best_estimator_.predict(np.vstack(test_data['cm']))"
   ]
  },
  {
   "cell_type": "code",
   "execution_count": 12,
   "id": "prepared-amplifier",
   "metadata": {},
   "outputs": [
    {
     "data": {
      "text/plain": [
       "Text(0, 0.5, '$E_{atom}$, ML (Ha)')"
      ]
     },
     "execution_count": 12,
     "metadata": {},
     "output_type": "execute_result"
    },
    {
     "data": {
      "image/png": "[encoded data removed]",
      "text/plain": [
       "<Figure size 252x252 with 1 Axes>"
      ]
     },
     "metadata": {
      "needs_background": "light"
     },
     "output_type": "display_data"
    }
   ],
   "source": [
    "fig, ax = plt.subplots(figsize=(3.5, 3.5))\n",
    "\n",
    "ax.scatter(test_data['homo'], y_pred)\n",
    "\n",
    "# Make a y=x line\n",
    "ax.set_xlim(ax.get_xlim())\n",
    "ax.set_ylim(ax.get_xlim())\n",
    "ax.plot(ax.get_xlim(), ax.get_xlim(), 'k--')\n",
    "\n",
    "ax.text(0.5, 0.1, f'MAE: {mean_absolute_error(y_pred, test_data[\"homo\"]):.2f} Ha',\n",
    "       transform=ax.transAxes)\n",
    "ax.set_xlabel('$E_{atom}$, DFT (Ha)')\n",
    "ax.set_ylabel('$E_{atom}$, ML (Ha)')"
   ]
  },
  {
   "cell_type": "markdown",
   "id": "protecting-eating",
   "metadata": {},
   "source": [
    "Repeat the fitting process 16 times using different samples of 100 entries."
   ]
  },
  {
   "cell_type": "code",
   "execution_count": 13,
   "id": "italic-stick",
   "metadata": {},
   "outputs": [
    {
     "name": "stderr",
     "output_type": "stream",
     "text": [
      "100%|██████████████████████████████████████████████████████████████████████████████████| 16/16 [06:20<00:00, 23.75s/it]\n"
     ]
    }
   ],
   "source": [
    "RBF_results = []\n",
    "\n",
    "gs = GridSearchCV(\n",
    "    model_rbf,  # The model I would like to tune\n",
    "    {'krr__gamma': np.logspace(-6, 0, 16), 'krr__alpha': np.logspace(-6, 0, 16)},  # The parameters to be adjusted\n",
    "    cv=10,  # How I perform the cross-validation (here: 10-fold cross-validation),\n",
    "    scoring='neg_mean_squared_error'  # Negative mean squared error, so that better models have greater values\n",
    ")\n",
    "\n",
    "for step in tqdm(range(16)):\n",
    "    train_data, test_data = train_test_split(data_40, train_size=100, test_size=1000)\n",
    "    #model_rbf.fit(np.vstack(train_data['cm']), train_data['homo'])\n",
    "    gs.fit(np.vstack(train_data['cm']), train_data['homo']);\n",
    "    \n",
    "    y_pred = gs.best_estimator_.predict(np.vstack(test_data['cm']))\n",
    "    \n",
    "    params = pd.DataFrame(gs.cv_results_['params'])\n",
    "    \n",
    "    RBF_results.append({\n",
    "        'Step': step,\n",
    "        'Gamma': params['krr__gamma'],\n",
    "        'Best Gamma': gs.best_params_['krr__gamma'],\n",
    "        'Alpha': params['krr__alpha'],\n",
    "        'Best Alpha': gs.best_params_['krr__alpha'],\n",
    "        'MTS': -gs.cv_results_['mean_test_score'],\n",
    "        'MAE': mean_absolute_error(test_data['homo'], y_pred),\n",
    "        'Prediction': y_pred})\n",
    "        \n",
    "        \n",
    "RBF_df = pd.DataFrame(RBF_results)"
   ]
  },
  {
   "cell_type": "markdown",
   "id": "fuzzy-nepal",
   "metadata": {},
   "source": [
    "Plot three histrograms of the optimized $\\alpha$, $\\gamma$ parameters and the MAE on a separate test set, respectively."
   ]
  },
  {
   "cell_type": "code",
   "execution_count": 14,
   "id": "romantic-audience",
   "metadata": {},
   "outputs": [
    {
     "data": {
      "text/plain": [
       "Text(0.5, 1.0, 'MAE')"
      ]
     },
     "execution_count": 14,
     "metadata": {},
     "output_type": "execute_result"
    },
    {
     "data": {
      "image/png": "[encoded data removed]",
      "text/plain": [
       "<Figure size 864x216 with 3 Axes>"
      ]
     },
     "metadata": {
      "needs_background": "light"
     },
     "output_type": "display_data"
    }
   ],
   "source": [
    "fig, axs = plt.subplots(1,3, figsize=(12,3))\n",
    "\n",
    "ax = axs[0]\n",
    "n, bins, patches = ax.hist(RBF_df['Best Alpha'])\n",
    "ax.set_title(r'$\\alpha$')\n",
    "\n",
    "ax = axs[1]\n",
    "n, bins, patches = ax.hist(RBF_df['Best Gamma'])\n",
    "ax.set_title(r'$\\gamma$')\n",
    "\n",
    "ax = axs[2]\n",
    "n, bins, patches = ax.hist(RBF_df['MAE'])\n",
    "ax.set_title('MAE')"
   ]
  },
  {
   "cell_type": "markdown",
   "id": "straight-romania",
   "metadata": {},
   "source": [
    "### Q1\n",
    "\n",
    "- Do the optimized model parameters change with different subsets?\n",
    "\n",
    "The optimized parameters do change with different subsets. You can see this because there is a spread in the histogram. If parameter optimization was inependent of subset, only one parameter value would be represented on the histogram.\n",
    "    \n",
    "- How large of a variation do you observe in the hyperparameters ($\\alpha$, $\\gamma$)?\n",
    "    \n",
    "There is minimal variation. The majority of subsets result in the same hyperparameters.\n",
    "    \n",
    "- Can we use the same set of parameters for all subsets of 100 entries?\n",
    "    \n",
    "We cannot use the same set of parameters for all subsets because clearly, different parameters optimize different subsets. By looking at the MAE histogram we can see that the subsets and hyperparameters do affect model performance."
   ]
  },
  {
   "cell_type": "markdown",
   "id": "speaking-female",
   "metadata": {},
   "source": [
    "## Problem 2: Plot a learning curve"
   ]
  },
  {
   "cell_type": "markdown",
   "id": "disabled-possibility",
   "metadata": {},
   "source": [
    "Fit the Coulomb Matrix model using randomly-selected training sets of 10, 100, and 1000 entries, each training for 4 replicates."
   ]
  },
  {
   "cell_type": "code",
   "execution_count": 15,
   "id": "complicated-bahrain",
   "metadata": {},
   "outputs": [
    {
     "name": "stderr",
     "output_type": "stream",
     "text": [
      "100%|████████████████████████████████████████████████████████████████████████████████████| 3/3 [04:17<00:00, 85.81s/it]\n"
     ]
    }
   ],
   "source": [
    "# Set up the test sizes we will evaluate for the learning curve\n",
    "train_sizes = [10, 100, 1000]\n",
    "\n",
    "# Prepare a standard test set\n",
    "train_data, test_data = train_test_split(data_40, test_size=500, random_state=1) \n",
    "\n",
    "# Avoids warnings about setting values of a copy\n",
    "test_data = test_data.copy()\n",
    "\n",
    "# Loop over the test sizes\n",
    "results = []\n",
    "for ts in tqdm(train_sizes):\n",
    "    # Split off some training data\n",
    "    train_subset = train_data.sample(ts, random_state=1)\n",
    "    \n",
    "    #Init model\n",
    "    gs = GridSearchCV(\n",
    "    model_rbf,  # The model I would like to tune\n",
    "    {'krr__gamma': np.logspace(-6, 0, 16), 'krr__alpha': np.logspace(-6, 0, 16)},  # The parameters to be adjusted\n",
    "    cv=10,  # How I perform the cross-validation (here: 10-fold cross-validation),\n",
    "    scoring='neg_mean_squared_error'  # Negative mean squared error, so that better models have greater values\n",
    "    )\n",
    "    \n",
    "    #for step in (range(4)):\n",
    "    # Fit the model\n",
    "    train_time = perf_counter()\n",
    "    #model_rbf.fit(np.vstack(train_subset['cm']), train_subset['homo'])\n",
    "    gs.fit(np.vstack(train_subset['cm']), train_subset['homo'])\n",
    "    train_time = perf_counter() - train_time\n",
    "\n",
    "    # Evaluate the model on the test set\n",
    "    test_time = perf_counter()\n",
    "    test_data['homo_pred'] = gs.best_estimator_.predict(np.vstack(test_data['cm']))\n",
    "    test_time = perf_counter() - test_time\n",
    "\n",
    "    params = pd.DataFrame(gs.cv_results_['params'])\n",
    "\n",
    "    # Store performance information\n",
    "    results.append({\n",
    "            'train_size': ts,\n",
    "            'train_time': train_time,\n",
    "            'test_time': test_time,\n",
    "            'Alpha': params['krr__alpha'],\n",
    "            'Best Alpha': gs.best_params_['krr__alpha'],\n",
    "            'Gamma': params['krr__gamma'],\n",
    "            'Best Gamma': gs.best_params_['krr__gamma'],\n",
    "            'mae': mean_absolute_error(test_data['homo'], test_data['homo_pred'])\n",
    "        })\n",
    "\n",
    "results = pd.DataFrame(results)"
   ]
  },
  {
   "cell_type": "markdown",
   "id": "opposed-portrait",
   "metadata": {},
   "source": [
    "### Q2\n",
    "Plot how the averaged model accuracy on a test set, training time and inference times change as a function of training set size."
   ]
  },
  {
   "cell_type": "code",
   "execution_count": 43,
   "id": "moderate-pattern",
   "metadata": {},
   "outputs": [
    {
     "data": {
      "image/png": "[encoded data removed]",
      "text/plain": [
       "<Figure size 864x216 with 5 Axes>"
      ]
     },
     "metadata": {
      "needs_background": "light"
     },
     "output_type": "display_data"
    }
   ],
   "source": [
    "fig, axs = plt.subplots(1, 5, figsize=(12, 3.))\n",
    "\n",
    "ax = axs[0]\n",
    "ax.loglog(results['train_size'], results['Best Alpha'], '--o')\n",
    "ax.set_ylabel(r'$\\alpha$')\n",
    "ax.set_title('Hyperparameters')\n",
    "\n",
    "ax = axs[1]\n",
    "ax.loglog(results['train_size'], results['Best Gamma'], '--o')\n",
    "ax.set_ylabel(r'$\\gamma$')\n",
    "ax.set_title('Hyperparameters')\n",
    "\n",
    "ax = axs[2]\n",
    "ax.loglog(results['train_size'], results['train_time'], '--o')\n",
    "#p = linregress(np.log(results['train_size'].iloc[-3:]), np.log(results['train_time'].iloc[-3:]))\n",
    "#ax.text(0.1, 0.8, f'$t \\propto N^{{{p[0]:.1f}}}$', transform=ax.transAxes, fontsize=14)\n",
    "ax.set_ylabel('Train Time (s)')\n",
    "ax.set_title('Training Time')\n",
    "\n",
    "ax = axs[3]\n",
    "ax.loglog(results['train_size'], results['test_time'], '--o')\n",
    "#p = linregress(np.log(results['train_size'].iloc[-3:]), np.log(results['test_time'].iloc[-3:]))\n",
    "#ax.text(0.1, 0.8, f'$t \\propto N^{{{p[0]:.1f}}}$', transform=ax.transAxes, fontsize=14)\n",
    "ax.set_ylabel('Test Time (s)')\n",
    "ax.set_title('Inference Time')\n",
    "\n",
    "ax = axs[4]\n",
    "ax.loglog(results['train_size'], results['mae'], '--o')\n",
    "#p = linregress(np.log(results['train_size'].iloc[-3:]), np.log(results['test_time'].iloc[-3:]))\n",
    "#ax.text(0.1, 0.8, f'$t \\propto N^{{{p[0]:.1f}}}$', transform=ax.transAxes, fontsize=14)\n",
    "ax.set_ylabel('MAE')\n",
    "ax.set_title('Model Performance')\n",
    "\n",
    "for ax in axs:\n",
    "    ax.set_xlabel('Train Size')\n",
    "\n",
    "fig.tight_layout()\n",
    "#fig.savefig('figures/fchl-scaling.svg')"
   ]
  },
  {
   "cell_type": "markdown",
   "id": "decimal-apple",
   "metadata": {},
   "source": [
    "## Problem 3: Optimize the training set.\n",
    "\n",
    "We are going to use a genetic algorithm to determine an optimized training set with $100$ entries.\n",
    "\n",
    "First, separate off a \"validation set\" of 1000 entries from the training set that we will use to assess the performance of our specially-chosen training sets."
   ]
  },
  {
   "cell_type": "code",
   "execution_count": 17,
   "id": "literary-links",
   "metadata": {},
   "outputs": [],
   "source": [
    "data_valid = data_40.sample(1000)\n",
    "data_new = data_40.copy()\n",
    "data_new = data_new.drop(data_valid.index)"
   ]
  },
  {
   "cell_type": "code",
   "execution_count": 24,
   "id": "closing-winter",
   "metadata": {},
   "outputs": [],
   "source": [
    "train_data, test_data = train_test_split(data_40, train_size = 100, test_size = 1000)"
   ]
  },
  {
   "cell_type": "markdown",
   "id": "lightweight-communication",
   "metadata": {},
   "source": [
    "Now, implement a function that will accept a list of points from the training set by their index and produce the score of that model on the validation set using MAE. This function will be used by the genetic algorithm to score each selection of points."
   ]
  },
  {
   "cell_type": "code",
   "execution_count": 34,
   "id": "municipal-mathematics",
   "metadata": {},
   "outputs": [],
   "source": [
    "def evaluate_subset(points: list, model, train_data: pd.DataFrame, test_data: pd.DataFrame) -> float:\n",
    "\n",
    "    test_subset = []\n",
    "    train_subset = []\n",
    "    for index in points:\n",
    "        train_subset.append(train_data.iloc[index])\n",
    "        #test_subset.append(test_data.iloc[index])\n",
    "    train_subset_df = pd.DataFrame(train_subset)\n",
    "    test_subset_df = pd.DataFrame(test_subset)\n",
    "    X_train = np.vstack(train_subset_df['cm'])\n",
    "    #y_test = np.vstack(test_subset_df['homo'])\n",
    "    \n",
    "    \n",
    "    predictions = gs.best_estimator_.predict(X_train)\n",
    "    MAE = mean_absolute_error(test_data['homo'].sample(len(train_data)), predictions)\n",
    "    return MAE\n",
    "    \n",
    "    \"\"\"Test a subset of points\n",
    "\n",
    "    Args:\n",
    "        points: Which points from the train_data to sample\n",
    "        model: Model to use for testing\n",
    "        train_data: All available training points\n",
    "        test_data: Data used to test the model\n",
    "    Returns:\n",
    "        MAE on the test set\n",
    "    \"\"\""
   ]
  },
  {
   "cell_type": "markdown",
   "id": "bearing-papua",
   "metadata": {},
   "source": [
    "Next, run the genetic algorithm code provided at the end of this document "
   ]
  },
  {
   "cell_type": "code",
   "execution_count": 20,
   "id": "equal-pride",
   "metadata": {},
   "outputs": [],
   "source": [
    "from random import sample\n",
    "\n",
    "def mutate(points: set, total: int, fraction: float = 0.1) -> set:\n",
    "    \"\"\"Mutate a set of points\n",
    "\n",
    "    Mutates from selecting points randomly from the dataset\n",
    "\n",
    "    Args:\n",
    "        points: Set of points to be mutated\n",
    "        total: Total number of samples to choose from in dataset\n",
    "        fraction: How many points to re-select\n",
    "    \"\"\"\n",
    "\n",
    "    # Remove the desired amount of points\n",
    "    n_to_remove = int(len(points) * fraction)\n",
    "    to_remove = sample(points, k=n_to_remove)\n",
    "    new_points = points.difference(to_remove)\n",
    "\n",
    "    # Add more points to the set\n",
    "    available_choices = set(range(total)).difference(new_points)\n",
    "    new_points.update(sample(available_choices, n_to_remove))\n",
    "\n",
    "    return new_points\n",
    "\n",
    "def crossover(parent_a: set, parent_b: set):\n",
    "    \"\"\"Perform a crossover operation\n",
    "\n",
    "    Randomly chooses points from both parents\n",
    "\n",
    "    Args:\n",
    "        parent_a: One choice of points\n",
    "        parent_b: Another choice of points\n",
    "    Returns:\n",
    "        A new set that combines both parents\n",
    "    \"\"\"\n",
    "\n",
    "    # Combine all points from each parents\n",
    "    options = parent_a.union(parent_b)\n",
    "\n",
    "    # Pick randomly from the combined set\n",
    "    return set(sample(options, len(parent_a)))"
   ]
  },
  {
   "cell_type": "markdown",
   "id": "subjective-shirt",
   "metadata": {},
   "source": [
    "Genetic algorithms work by applying crossover and mutation to the best-performing entries of each generation, and repeating the process over many generations. The idea is that best-performing traits (\"genes\") are present in the later generations.\n"
   ]
  },
  {
   "cell_type": "code",
   "execution_count": 21,
   "id": "welcome-silence",
   "metadata": {},
   "outputs": [],
   "source": [
    "valid_data = data_valid"
   ]
  },
  {
   "cell_type": "code",
   "execution_count": 35,
   "id": "naval-season",
   "metadata": {},
   "outputs": [
    {
     "name": "stderr",
     "output_type": "stream",
     "text": [
      "generation: 100%|██████████████████████████████████████████████████████████████████████| 50/50 [00:33<00:00,  1.49it/s]\n"
     ]
    }
   ],
   "source": [
    "# Defining options\n",
    "n_generations = 50\n",
    "pop_size = 8\n",
    "dataset_size = 100\n",
    "\n",
    "# Array in which to store all results\n",
    "all_options = []\n",
    "\n",
    "# Make an initial population\n",
    "#  Creates sets where each have different entries pull from the full dataset\n",
    "population = np.array([set(sample(range(len(train_data)), k=100)) for i in range(pop_size)])\n",
    "\n",
    "# Loop over the generations\n",
    "for gen in tqdm(range(n_generations), desc='generation'):\n",
    "    # Score each member of the population\n",
    "    scores = [\n",
    "        evaluate_subset(list(s), gs, train_data, valid_data) for s \n",
    "        in population\n",
    "    ]\n",
    "\n",
    "    # Store the results in the history\n",
    "    for i, s in enumerate(population):\n",
    "        all_options.append({\n",
    "            'generation': gen,\n",
    "            'points': s,\n",
    "            'score': scores[i]\n",
    "        })\n",
    "\n",
    "    # Sort scores and pick the best quarter\n",
    "    ranks = np.argsort(scores)\n",
    "    best_members = population[ranks[:pop_size // 4]]\n",
    "\n",
    "    # Create new members by crossover and mutation\n",
    "    new_population = []\n",
    "    for i in range(pop_size):\n",
    "        # Pick two parents at random\n",
    "        parent_a, parent_b = sample(best_members.tolist(), 2)\n",
    "\n",
    "        # Form a new member by crossover\n",
    "        new_member = crossover(parent_a, parent_b)\n",
    "\n",
    "        # Mutate it for good measure\n",
    "        new_population.append(\n",
    "            mutate(new_member, total=len(train_data))\n",
    "        )\n",
    "\n",
    "    # Replace population with new population\n",
    "    population = np.array(new_population)\n",
    "    \n",
    "all_options_df = pd.DataFrame(all_options)"
   ]
  },
  {
   "cell_type": "markdown",
   "id": "expired-comparison",
   "metadata": {},
   "source": [
    "## Q3\n",
    "\n",
    "- Plot the best score in the population change as a function of generation. Hint: Convert the all_options to a DataFrame and use Panda's aggregation functions.\n",
    "- Plot the performance of your optimized model (which would be a single dot in this case) with the learning curve from problem 2. How does it compare?"
   ]
  },
  {
   "cell_type": "code",
   "execution_count": 75,
   "id": "american-assets",
   "metadata": {},
   "outputs": [
    {
     "data": {
      "text/plain": [
       "Text(0, 0.5, 'Generation')"
      ]
     },
     "execution_count": 75,
     "metadata": {},
     "output_type": "execute_result"
    },
    {
     "data": {
      "image/png": "[encoded data removed]",
      "text/plain": [
       "<Figure size 252x252 with 1 Axes>"
      ]
     },
     "metadata": {
      "needs_background": "light"
     },
     "output_type": "display_data"
    }
   ],
   "source": [
    "fig, ax = plt.subplots(figsize=(3.5, 3.5))\n",
    "\n",
    "ax.plot(np.linspace(0,49,50), all_options_df.groupby('generation').agg('min')['score'])\n",
    "\n",
    "ax.set_xlabel('Subset Score')\n",
    "ax.set_ylabel('Generation')"
   ]
  },
  {
   "cell_type": "code",
   "execution_count": 96,
   "id": "desirable-landing",
   "metadata": {},
   "outputs": [
    {
     "data": {
      "text/plain": [
       "<matplotlib.legend.Legend at 0x17aa6a3f488>"
      ]
     },
     "execution_count": 96,
     "metadata": {},
     "output_type": "execute_result"
    },
    {
     "data": {
      "image/png": "[encoded data removed]",
      "text/plain": [
       "<Figure size 432x288 with 1 Axes>"
      ]
     },
     "metadata": {
      "needs_background": "light"
     },
     "output_type": "display_data"
    }
   ],
   "source": [
    "fig, ax = plt.subplots()\n",
    "\n",
    "ax.loglog(results['train_size'], results['mae'], '--o', label = 'Previous Model')\n",
    "#p = linregress(np.log(results['train_size'].iloc[-3:]), np.log(results['test_time'].iloc[-3:]))\n",
    "#ax.text(0.1, 0.8, f'$t \\propto N^{{{p[0]:.1f}}}$', transform=ax.transAxes, fontsize=14)\n",
    "ax.set_ylabel('MAE')\n",
    "ax.set_title('Model Performance')\n",
    "\n",
    "ax.scatter(100, all_options_df.agg('min')['score'], color = 'orange', label = 'GA Min')\n",
    "ax.scatter(100, all_options_df.iloc[-1]['score'], color = 'crimson', label = 'GA Final')\n",
    "\n",
    "ax.set_xlabel('Train Size')\n",
    "\n",
    "ax.legend()"
   ]
  },
  {
   "cell_type": "markdown",
   "id": "destroyed-format",
   "metadata": {},
   "source": [
    "- Plot the performance of your optimized model (which would be a single dot in this case) with the learning curve from problem 2. How does it compare?\n",
    "\n",
    "As shown in the plot, the learning curve from part 2 has a lower MAE and thus, our training method in part 2 is superior to using the Genetic Algorithm for optimization. Even at it's best performance (minimum MAE, orange dot), at a training size of 100 our method from part 2 still outperforms the Genetic Algorith. Furthermore, our *final* score from the Genetic Algorithm (generation 50) is actually far greater than the minimum. Perhaps with more generations our results would improve (evolution does take millenia after all)."
   ]
  },
  {
   "cell_type": "code",
   "execution_count": null,
   "id": "dutch-battle",
   "metadata": {},
   "outputs": [],
   "source": []
  }
 ],
 "metadata": {
  "kernelspec": {
   "display_name": "Python 3",
   "language": "python",
   "name": "python3"
  },
  "language_info": {
   "codemirror_mode": {
    "name": "ipython",
    "version": 3
   },
   "file_extension": ".py",
   "mimetype": "text/x-python",
   "name": "python",
   "nbconvert_exporter": "python",
   "pygments_lexer": "ipython3",
   "version": "3.7.10"
  }
 },
 "nbformat": 4,
 "nbformat_minor": 5
}
